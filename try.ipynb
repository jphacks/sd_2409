{
 "cells": [
  {
   "cell_type": "code",
   "execution_count": null,
   "metadata": {},
   "outputs": [],
   "source": [
    "from incomings.variables import EnvVariables\n",
    "\n",
    "envval = EnvVariables()\n",
    "envval.MODEL_OSARA"
   ]
  },
  {
   "cell_type": "code",
   "execution_count": null,
   "metadata": {},
   "outputs": [],
   "source": [
    "from Yolov9Wrapper.Yolov9Wrapper import Yolov9\n",
    "import cv2\n",
    "\n",
    "model = Yolov9(envval.MODEL_OSARA)"
   ]
  },
  {
   "cell_type": "code",
   "execution_count": null,
   "metadata": {},
   "outputs": [],
   "source": [
    "numpy_image = cv2.imread(\"incomings/testimage/test01.jpg\")\n",
    "result, _ = model.predict_image(numpy_image)\n",
    "\n",
    "image = result[0][\"image\"]\n",
    "\n",
    "# ---アスペクト比を維持してリサイズ\n",
    "target_size = (800, 800)\n",
    "h, w = image.shape[:2]\n",
    "scale = min(target_size[1] / w, target_size[0] / h)\n",
    "new_w = int(w * scale)\n",
    "new_h = int(h * scale)\n",
    "image = cv2.resize(image, (new_w, new_h))\n",
    "\n",
    "boxes = result[0][\"boxes\"]\n",
    "for box in boxes:\n",
    "    label = box[\"label\"]\n",
    "    conf = box[\"confidence\"]\n",
    "    xyxy = box[\"xyxy\"]\n",
    "    print(label, conf, xyxy)\n",
    "\n",
    "# ---ipynbで表示\n",
    "from IPython.display import Image, display\n",
    "\n",
    "display(Image(cv2.imencode(\".jpg\", image)[1].tobytes()))"
   ]
  },
  {
   "cell_type": "code",
   "execution_count": null,
   "metadata": {},
   "outputs": [],
   "source": [
    "from app_vf1 import Menu\n",
    "\n",
    "menu = Menu()\n",
    "menu.load_menu(\"incomings/menu.csv\",csv_encoding=\"utf-8\")"
   ]
  },
  {
   "cell_type": "markdown",
   "metadata": {},
   "source": [
    "## MenuCacheのテスト  "
   ]
  },
  {
   "cell_type": "code",
   "execution_count": null,
   "metadata": {},
   "outputs": [],
   "source": [
    "from app_vf1 import MenuCache\n",
    "\n",
    "menucache=MenuCache()"
   ]
  },
  {
   "cell_type": "code",
   "execution_count": 2,
   "metadata": {},
   "outputs": [],
   "source": [
    "menucache.import_from_json(\"menu_manual.json\")"
   ]
  },
  {
   "cell_type": "code",
   "execution_count": null,
   "metadata": {},
   "outputs": [],
   "source": [
    "menucache.get_cache()"
   ]
  },
  {
   "cell_type": "code",
   "execution_count": 6,
   "metadata": {},
   "outputs": [],
   "source": [
    "# menucache.find_cache(\"yolo_name\",\"salted_cabbage_salad\")\n",
    "v594=menucache.find_cache(\"price\",594)"
   ]
  },
  {
   "cell_type": "code",
   "execution_count": 12,
   "metadata": {},
   "outputs": [],
   "source": [
    "search=menucache.find_cache(\"display_name\",\"塩キャベツサラダ\")[0]"
   ]
  },
  {
   "cell_type": "code",
   "execution_count": 13,
   "metadata": {},
   "outputs": [],
   "source": [
    "menucache.remove_cache(search)"
   ]
  },
  {
   "cell_type": "code",
   "execution_count": null,
   "metadata": {},
   "outputs": [],
   "source": [
    "menucache.get_cache()"
   ]
  },
  {
   "cell_type": "markdown",
   "metadata": {},
   "source": [
    "## メニュー検索のバグ確認\n",
    "- 大文字を含むときに、うまく検索できない問題"
   ]
  },
  {
   "cell_type": "code",
   "execution_count": 1,
   "metadata": {},
   "outputs": [],
   "source": [
    "from modules.menu import Menu\n",
    "\n",
    "menu = Menu()\n",
    "\n",
    "menu.load_menu(\"incomings/menu.csv\",csv_encoding=\"utf-8\")"
   ]
  },
  {
   "cell_type": "code",
   "execution_count": null,
   "metadata": {},
   "outputs": [],
   "source": [
    "menu.find_menu_by_kv(\"display_name\",\"辛口野菜カレー\",search_type=\"partial\")"
   ]
  },
  {
   "cell_type": "code",
   "execution_count": null,
   "metadata": {},
   "outputs": [],
   "source": [
    "menu.find_menu_by_kv(\"display_name\",\"東北）辛口野菜カレー丼　ＬＳ\",search_type=\"partial\")"
   ]
  },
  {
   "cell_type": "code",
   "execution_count": null,
   "metadata": {},
   "outputs": [],
   "source": [
    "menu.find_menu_by_kv(\"display_name\",\"Ｋ２大トマトドライカレー\",search_type=\"partial\")"
   ]
  },
  {
   "cell_type": "markdown",
   "metadata": {},
   "source": [
    "## Speech.pyのテスト"
   ]
  },
  {
   "cell_type": "code",
   "execution_count": null,
   "metadata": {},
   "outputs": [],
   "source": [
    "from jph.Speech import choose_voice, encode_voice_data\n",
    "\n",
    "voice_data=choose_voice([])\n",
    "voice_base64=encode_voice_data(voice_data)"
   ]
  },
  {
   "cell_type": "code",
   "execution_count": null,
   "metadata": {},
   "outputs": [],
   "source": [
    "voice_base64"
   ]
  }
 ],
 "metadata": {
  "kernelspec": {
   "display_name": "venv",
   "language": "python",
   "name": "python3"
  },
  "language_info": {
   "codemirror_mode": {
    "name": "ipython",
    "version": 3
   },
   "file_extension": ".py",
   "mimetype": "text/x-python",
   "name": "python",
   "nbconvert_exporter": "python",
   "pygments_lexer": "ipython3",
   "version": "3.12.1"
  }
 },
 "nbformat": 4,
 "nbformat_minor": 2
}
